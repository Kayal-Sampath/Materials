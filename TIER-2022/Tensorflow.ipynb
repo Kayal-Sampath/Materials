{
  "nbformat": 4,
  "nbformat_minor": 0,
  "metadata": {
    "colab": {
      "name": "tier2022.ipynb",
      "private_outputs": true,
      "provenance": [],
      "collapsed_sections": []
    },
    "kernelspec": {
      "name": "python3",
      "display_name": "Python 3"
    },
    "language_info": {
      "name": "python"
    },
    "accelerator": "GPU"
  },
  "cells": [
    {
      "cell_type": "code",
      "execution_count": null,
      "metadata": {
        "id": "mBcq5Fup1Qew"
      },
      "outputs": [],
      "source": [
        "!pip install transformers datasets"
      ]
    },
    {
      "cell_type": "code",
      "source": [
        "from datasets import load_dataset\n",
        "dataset=load_dataset(\"imdb\")\n"
      ],
      "metadata": {
        "id": "306Ljkmb7khl"
      },
      "execution_count": null,
      "outputs": []
    },
    {
      "cell_type": "code",
      "source": [
        "print(dataset)"
      ],
      "metadata": {
        "id": "-husAJJRZrcB"
      },
      "execution_count": null,
      "outputs": []
    },
    {
      "cell_type": "code",
      "source": [
        "dataset['train'][1]"
      ],
      "metadata": {
        "id": "JJMF-koRRbTJ"
      },
      "execution_count": null,
      "outputs": []
    },
    {
      "cell_type": "code",
      "source": [
        "from transformers import AutoTokenizer\n",
        "tokenizer=AutoTokenizer.from_pretrained('bert-base-cased')\n",
        "\n",
        "def tokenize_function(examples):\n",
        "  return tokenizer(examples['text'],padding='max_length',truncation=True, max_length=200)\n",
        "  #return tokenizer(examples['text'],padding=True,truncation=True)\n"
      ],
      "metadata": {
        "id": "nRFQ9_e0B3nc"
      },
      "execution_count": null,
      "outputs": []
    },
    {
      "cell_type": "code",
      "source": [
        "tokenized_datasets=dataset.map(tokenize_function,batched=True)  "
      ],
      "metadata": {
        "id": "g0N2qxKdpmsd"
      },
      "execution_count": null,
      "outputs": []
    },
    {
      "cell_type": "code",
      "source": [
        "print(tokenized_datasets)"
      ],
      "metadata": {
        "id": "4ZmHBU3OVOYo"
      },
      "execution_count": null,
      "outputs": []
    },
    {
      "cell_type": "code",
      "source": [
        "small_train=tokenized_datasets['train'].shuffle(seed=42).select(range(1000))\n",
        "small_eval=tokenized_datasets['test'].shuffle(seed=42).select(range(1000))"
      ],
      "metadata": {
        "id": "OyTwDTdcB_8T"
      },
      "execution_count": null,
      "outputs": []
    },
    {
      "cell_type": "code",
      "source": [
        "print(small_train)"
      ],
      "metadata": {
        "id": "3lUi-Scwc0ci"
      },
      "execution_count": null,
      "outputs": []
    },
    {
      "cell_type": "code",
      "source": [
        "small_train[5]['text']"
      ],
      "metadata": {
        "id": "hY_6it-MZYye"
      },
      "execution_count": null,
      "outputs": []
    },
    {
      "cell_type": "code",
      "source": [
        "print(len(small_train[5]['input_ids']))"
      ],
      "metadata": {
        "id": "joDqUGGLceli"
      },
      "execution_count": null,
      "outputs": []
    },
    {
      "cell_type": "code",
      "source": [
        "print(len(small_train[5]['input_ids']))"
      ],
      "metadata": {
        "id": "AGY2W48fp4y4"
      },
      "execution_count": null,
      "outputs": []
    },
    {
      "cell_type": "code",
      "source": [
        "print(small_train[5]['input_ids'])"
      ],
      "metadata": {
        "id": "GPOLprZtoqhZ"
      },
      "execution_count": null,
      "outputs": []
    },
    {
      "cell_type": "code",
      "source": [
        "print(small_train[5]['attention_mask'])"
      ],
      "metadata": {
        "id": "J1NdzmGBnaBf"
      },
      "execution_count": null,
      "outputs": []
    },
    {
      "cell_type": "code",
      "source": [
        "tokenizer.decode(small_train[5]['input_ids'])"
      ],
      "metadata": {
        "id": "qTEcli29ZfT_"
      },
      "execution_count": null,
      "outputs": []
    },
    {
      "cell_type": "code",
      "source": [
        "import tensorflow as tf\n",
        "from transformers import TFAutoModelForSequenceClassification\n",
        "\n",
        "model=TFAutoModelForSequenceClassification.from_pretrained('bert-base-cased',num_labels=2)\n",
        "tf_train=small_train.remove_columns(['text']).with_format('tensorflow')\n",
        "tf_eval=small_eval.remove_columns(['text']).with_format('tensorflow')\n",
        "\n",
        "train_features={x:tf_train[x] for x in tokenizer.model_input_names}\n",
        "train_tf_dataset=tf.data.Dataset.from_tensor_slices((train_features,tf_train['label']))\n",
        "train_tf_dataset=train_tf_dataset.shuffle(len(tf_train)).batch(8)\n",
        "\n",
        "eval_features={x:tf_eval[x] for x in tokenizer.model_input_names}\n",
        "eval_tf_dataset=tf.data.Dataset.from_tensor_slices((train_features,tf_eval['label']))\n",
        "eval_tf_dataset=eval_tf_dataset.shuffle(len(tf_eval)).batch(8)"
      ],
      "metadata": {
        "id": "XpMEhuQxq_4E"
      },
      "execution_count": null,
      "outputs": []
    },
    {
      "cell_type": "code",
      "source": [
        "train_tf_dataset"
      ],
      "metadata": {
        "id": "F1stOx2KtDkc"
      },
      "execution_count": null,
      "outputs": []
    },
    {
      "cell_type": "code",
      "source": [
        "model.compile(optimizer=tf.keras.optimizers.Adam(learning_rate=5e-5),\n",
        "              loss=tf.keras.losses.SparseCategoricalCrossentropy(from_logits=True),\n",
        "              metrics=tf.metrics.SparseCategoricalAccuracy(),\n",
        ")"
      ],
      "metadata": {
        "id": "eefuX3IhsoYx"
      },
      "execution_count": null,
      "outputs": []
    },
    {
      "cell_type": "code",
      "source": [
        "model.fit(train_tf_dataset,validation_data=eval_tf_dataset,epochs=1)"
      ],
      "metadata": {
        "id": "DLHjMNBNsWVN"
      },
      "execution_count": null,
      "outputs": []
    }
  ]
}
